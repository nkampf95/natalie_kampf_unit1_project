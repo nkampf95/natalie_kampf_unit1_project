{
 "cells": [
  {
   "cell_type": "markdown",
   "metadata": {},
   "source": [
    "<img src=\"http://imgur.com/1ZcRyrc.png\" style=\"float: left; margin: 20px; height: 55px\">\n",
    "\n",
    "# Project 1: Python Coding Exercises\n",
    "\n",
    "_Authors:  Joseph Nelson (DC)_\n",
    "\n",
    "---"
   ]
  },
  {
   "cell_type": "markdown",
   "metadata": {},
   "source": [
    "The following code challenges are drawn from common exercises used in technical interviews. This project is more about turning ideas into Python code than it is about developing algorithms, so we have provided \"pseudocode\" for the more challenging problems."
   ]
  },
  {
   "cell_type": "markdown",
   "metadata": {},
   "source": [
    "### Challenge 1: Largest Palindrome\n",
    "A palindromic number reads the same both ways. For example, 1234321 is a palindrome. The largest palindrome made from the product of two two-digit numbers is 9009 = 91 × 99. Find the largest palindrome made from the product of two three-digit numbers.\n",
    "\n",
    "Suggested algorithm:\n",
    "\n",
    "```\n",
    "- Initialize a variable `result` to 0.\n",
    "- For each number A 100 through 999:\n",
    "    - For each number B 100 through 999:\n",
    "        - Multiply A and B.\n",
    "        - Turn that product into a string (use `str` as a function).\n",
    "        - Reverse the string (use `my_string[::-1]`).\n",
    "        - If the string and its reverse are the same and the product is\n",
    "        greater than `result`,  set `result` to that new value.\n",
    "```"
   ]
  },
  {
   "cell_type": "code",
   "execution_count": 1,
   "metadata": {},
   "outputs": [
    {
     "name": "stdout",
     "output_type": "stream",
     "text": [
      "906609\n"
     ]
    }
   ],
   "source": [
    "#initalize a variable 'result' to 0\n",
    "result = 0 \n",
    "#For each number A 100 through 999:\n",
    "#for loop iterating over range backwards from 999\n",
    "for a in range(999, 100, -1):\n",
    "    #for loop iterating over range backwards from 999\n",
    "    #For each number B 100 through 999:\n",
    "    for b in range(999, 100, -1):\n",
    "        #take a product and assign it to a variable\n",
    "        x = a * b\n",
    "        #check that product is greater than our value for result\n",
    "        if x > result:\n",
    "            #if so, assign a new variable to the converted string of our product\n",
    "            #Turn that product into a string (use `str` as a function).\n",
    "            s = str(a * b)\n",
    "            #check if the list of integer characters in the string is identical backwards\n",
    "            # Reverse the string (use `my_string[::-1]`).\n",
    "            if s == s[::-1]:\n",
    "                #if true, take product of two values from ranges and print largest palindrome\n",
    "                #If the string and its reverse are the same and the product is\n",
    "                #reater than `result`,  set `result` to that new value.\n",
    "                    result = a * b\n",
    "    \n",
    "print(result)\n"
   ]
  },
  {
   "cell_type": "markdown",
   "metadata": {},
   "source": [
    "### Challenge 2: Summation of Primes\n",
    "The sum of the primes below 10 is 2 + 3 + 5 + 7 = 17. Find the sum of all the primes below 2,000.\n",
    "\n",
    "Suggested algorithm:\n",
    "\n",
    "```\n",
    "- Initialize an empty list of primes.\n",
    "\n",
    "- For every number A from 2 to 2,000:\n",
    "    - Set a variable `is_prime` to true.\n",
    "    - For every number B in our list of primes:\n",
    "        - If A divided by B gives no remainder, set `is_prime` to false.\n",
    "        - Optional: Use the command `break` to end the loop over primes at this point.\n",
    "    - If `is_prime` is still true, append A to our list of primes.\n",
    "    \n",
    "- Add up the primes.\n",
    "```"
   ]
  },
  {
   "cell_type": "code",
   "execution_count": 16,
   "metadata": {},
   "outputs": [
    {
     "data": {
      "text/plain": [
       "277050"
      ]
     },
     "execution_count": 16,
     "metadata": {},
     "output_type": "execute_result"
    }
   ],
   "source": [
    "# Initialize an empty list of prime\n",
    "#take max value and find the prime numbers in a range from first prime (2) to that value\n",
    "#and return the sum of those numbers\n",
    "def sumPrimes(max_val): \n",
    "    primes = []\n",
    "#creart a range between first number (2) and the max value (or max+1), and check to see\n",
    "#which values meet the criteria of a prime number\n",
    "    for a in range(2, max_val+1):\n",
    "        #try dividing the number with all primes less than sqrt(of number):\n",
    "        for b in primes:\n",
    "        # if num can be divided evenly by b, then b is a factor and the number is not a prime - this will break the loop\n",
    "        # If A divided by B gives no remainder - loop breaks \n",
    "            if a % b == 0: \n",
    "                break     # if b divides the number, stop the search\n",
    "            #if sqrt(num) were to be greater than p, we would find a factor, and the num would not be a prime\n",
    "            #If a < B^2 still true, append A to our list of primes. - make sure the number is a prime\n",
    "            elif a < b*b:\n",
    "                primes.append(a)\n",
    "                break\n",
    "        # this will add only 2, as that is the only number which does not satisfy the criteria\n",
    "        else: primes.append(a)       \n",
    "\n",
    "    return sum(primes)\n",
    "\n",
    "#Add up the primes.\n",
    "sumPrimes(2000)"
   ]
  },
  {
   "cell_type": "markdown",
   "metadata": {},
   "source": [
    "### Challenge 3: Multiples of 3 and 5\n",
    "If we list all of the natural numbers below 10 that are multiples of 3 or 5, we get 3, 5, 6, and 9. The sum of these multiples is 23. Find the sum of all the multiples of 3 and 5 below 1,000."
   ]
  },
  {
   "cell_type": "code",
   "execution_count": 2,
   "metadata": {},
   "outputs": [
    {
     "data": {
      "text/plain": [
       "33165"
      ]
     },
     "execution_count": 2,
     "metadata": {},
     "output_type": "execute_result"
    }
   ],
   "source": [
    "#We want to create an empty list of natural numbers (natnum) and define a function that creates a range for the sum of multiples of 3&5\n",
    "#and then in the range iterate the numbers starting from 1 up to what we set 'limit' to increasing by 1 after that. then \n",
    "#define that the number(i) which has to be divisble by 3 and 5 and then if it is divisible append i to the empty list - then sum that list.  \n",
    "#set an empty list to append values which meet criteria of multiple of 3 and 5\n",
    "natnum = []\n",
    "#this is the definition of a function that takes a\n",
    "#number limit for the range of which we'd like to sum the multiples of 3 & 5\n",
    "def sumNat(limit):\n",
    "    #iterate over the range of 1 (and increasing by 1) and the value passed to check criteria \n",
    "    for i in range(1,limit+1):\n",
    "        #if the remainder of the value i in the range is 0 for 3 & 5 simultaneously, \n",
    "        #then the val is a multiple of 3 & 5, so we append it to our list\n",
    "        if i%3 == 0 and i%5 ==0:\n",
    "            natnum.append(i)\n",
    "    return sum(natnum)\n",
    "\n",
    "sumNat(1000)\n",
    "\n"
   ]
  },
  {
   "cell_type": "markdown",
   "metadata": {},
   "source": [
    "### Challenge 4: String Compressor\n",
    "Write a function to perform basic string compression using the counts of repeated characters. (This is called run-length encoding.) For example, the string \"aabcccccaaa\" would become a2b1c5a3. If the “compressed” string would not become smaller than the original string, your method should return the original string. You can assume the string has only uppercase and lowercase letters (a–z). Specify whether your solution is case sensitive or case insensitive and what you would need to change to make it the other.\n",
    "\n",
    "Suggested algorithm:\n",
    "\n",
    "```\n",
    "- Initialize an empty string to hold the compressed version of the input string\n",
    "- Initialize an empty string to hold the character we are currently tallying up\n",
    "- Initialize a counter variable to 0\n",
    "\n",
    "- For each letter in the input string:\n",
    "    - If that letter matches the letter we are counting, increment the counter by 1\n",
    "    - Otherwise:\n",
    "        - If the counter value is greater than 0, add the letter we have been counting\n",
    "        and its count to our compressed string\n",
    "        - Update the letter we are counting\n",
    "        - Set the counter to 1\n",
    "\n",
    "- Append the last letter we were counting and its count to our compressed string\n",
    "```\n",
    "\n",
    "**Suggestion:** Test your function on a few sample inputs. Try to come up with \"edge cases\" that might make it fail (e.g. empty strings, strings with all the same character, strings containing non-alphabetic characters, etc.)"
   ]
  },
  {
   "cell_type": "code",
   "execution_count": 20,
   "metadata": {},
   "outputs": [
    {
     "data": {
      "text/plain": [
       "'a2b1c5a3'"
      ]
     },
     "execution_count": 20,
     "metadata": {},
     "output_type": "execute_result"
    }
   ],
   "source": [
    "#Write a function to perform basic string compression using the counts of repeated characters. i.e.  the string \"aabcccccaaa\" would become a2b1c5a3\n",
    "#If the “compressed” string would not become smaller than the original string, your method should return the original string\n",
    "#You can assume the string has only uppercase and lowercase letters (a–z)\n",
    "def compression(s):\n",
    "#Initialize an empty string to hold the compressed version of the input string\n",
    "    compstr = ''\n",
    "    prevchar = s[0]\n",
    "    #Set the character count to 1\n",
    "    charcount = 1\n",
    "    #For each letter in the input string:\n",
    "    #create a 'for' loop iterating over each character after the character at index 0\n",
    "    for char in s[1:]:\n",
    "        #set the new character nchar = to the character the 'for' loop is iterating over\n",
    "        nchar = char\n",
    "        #want to see if nchar = the character in the previous index space\n",
    "        if nchar == prevchar:\n",
    "            #if true, add 1 to the charcount to keep track of how many times it appears\n",
    "            #If that letter matches the letter we are counting, the counter will go up by 1\n",
    "            charcount+=1\n",
    "            #otherwise, if it does not equal the prevchar, add the prevchar and it's character count, \n",
    "            #converted to a string to the start of compression string\n",
    "        elif nchar!= prevchar:\n",
    "            compstr += prevchar + str(charcount)\n",
    "            #reset charcount to 1\n",
    "            charcount =1\n",
    "            #reset prevchar to nchar\n",
    "            prevchar = nchar\n",
    "    \n",
    "    #last charcount and character in the compressed string \n",
    "    compstr += prevchar + str(charcount)\n",
    "    #return string with characters and their charcounts\n",
    "    return compstr \n",
    "      \n",
    "#not sure why compression of 's' is not working from the above definition\n",
    "#so used string instead\n",
    "compression('aabcccccaaa') "
   ]
  },
  {
   "cell_type": "markdown",
   "metadata": {},
   "source": [
    "### Challenge 5: FizzBuzz\n",
    "Write a program that prints all of the numbers from 1 to 100. For multiples of 3, instead of the number, print \"Fizz;\" for multiples of 5, print \"Buzz.\" For numbers that are multiples of both 3 and 5, print \"FizzBuzz.\""
   ]
  },
  {
   "cell_type": "code",
   "execution_count": 3,
   "metadata": {},
   "outputs": [
    {
     "name": "stdout",
     "output_type": "stream",
     "text": [
      "1\n",
      "2\n",
      "fizz\n",
      "4\n",
      "buzz\n",
      "fizz\n",
      "7\n",
      "8\n",
      "fizz\n",
      "buzz\n",
      "11\n",
      "fizz\n",
      "13\n",
      "14\n",
      "fizzbuzz\n",
      "16\n",
      "17\n",
      "fizz\n",
      "19\n",
      "buzz\n",
      "fizz\n",
      "22\n",
      "23\n",
      "fizz\n",
      "buzz\n",
      "26\n",
      "fizz\n",
      "28\n",
      "29\n",
      "fizzbuzz\n",
      "31\n",
      "32\n",
      "fizz\n",
      "34\n",
      "buzz\n",
      "fizz\n",
      "37\n",
      "38\n",
      "fizz\n",
      "buzz\n",
      "41\n",
      "fizz\n",
      "43\n",
      "44\n",
      "fizzbuzz\n",
      "46\n",
      "47\n",
      "fizz\n",
      "49\n",
      "buzz\n",
      "fizz\n",
      "52\n",
      "53\n",
      "fizz\n",
      "buzz\n",
      "56\n",
      "fizz\n",
      "58\n",
      "59\n",
      "fizzbuzz\n",
      "61\n",
      "62\n",
      "fizz\n",
      "64\n",
      "buzz\n",
      "fizz\n",
      "67\n",
      "68\n",
      "fizz\n",
      "buzz\n",
      "71\n",
      "fizz\n",
      "73\n",
      "74\n",
      "fizzbuzz\n",
      "76\n",
      "77\n",
      "fizz\n",
      "79\n",
      "buzz\n",
      "fizz\n",
      "82\n",
      "83\n",
      "fizz\n",
      "buzz\n",
      "86\n",
      "fizz\n",
      "88\n",
      "89\n",
      "fizzbuzz\n",
      "91\n",
      "92\n",
      "fizz\n",
      "94\n",
      "buzz\n",
      "fizz\n",
      "97\n",
      "98\n",
      "fizz\n",
      "buzz\n"
     ]
    }
   ],
   "source": [
    "#create a function that  iterates over a range of numbers up to the limit\n",
    "#and print fizz, buzz, fizzbuzz, or the number itself depending on criteria met\n",
    "def fizzBuzz(limit):\n",
    "    #make a 'for' loop which iterates over the range set by the limit\n",
    "    for num in range(1,limit+1):\n",
    "        #this will check the num value if it is is divisible by 3 & 5 - if this is true it will print fizzbuzz\n",
    "        if num%3 == 0 and num%5 == 0:\n",
    "            print(\"fizzbuzz\")\n",
    "        #then make elif statement for just 'num' divisible by 3 to print 'fizz'\n",
    "        elif num %3 == 0:\n",
    "            print('fizz')\n",
    "        #then make second elif statement for a number to be divisible by 5 and if it is true print 'Buzz'\n",
    "        elif num % 5 == 0:\n",
    "            print('buzz')\n",
    "         #if the 'num'does not meet any of the criteria then print the number \n",
    "        else: \n",
    "            print(num)\n",
    "\n",
    "#use this program to print all numbers from 1 to 100 \n",
    "fizzBuzz(100)\n",
    "    \n",
    "    \n",
    "    \n",
    "    \n",
    "    "
   ]
  },
  {
   "cell_type": "code",
   "execution_count": null,
   "metadata": {},
   "outputs": [],
   "source": []
  }
 ],
 "metadata": {
  "anaconda-cloud": {},
  "kernelspec": {
   "display_name": "Python 3",
   "language": "python",
   "name": "python3"
  },
  "language_info": {
   "codemirror_mode": {
    "name": "ipython",
    "version": 3
   },
   "file_extension": ".py",
   "mimetype": "text/x-python",
   "name": "python",
   "nbconvert_exporter": "python",
   "pygments_lexer": "ipython3",
   "version": "3.7.3"
  }
 },
 "nbformat": 4,
 "nbformat_minor": 2
}
